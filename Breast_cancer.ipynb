{
 "cells": [
  {
   "cell_type": "code",
   "execution_count": 1,
   "id": "configured-python",
   "metadata": {},
   "outputs": [],
   "source": [
    "import numpy as np\n",
    "import pandas as pd\n",
    "import matplotlib.pyplot as plt"
   ]
  },
  {
   "cell_type": "markdown",
   "id": "induced-range",
   "metadata": {},
   "source": [
    "# Loading dataset\n",
    "* Dataset from the url link mention below\n",
    "* assigning the column name beacause the dataset file doesnot have columns (I refered the respective webiste to fill columns)\n",
    "* describe the data"
   ]
  },
  {
   "cell_type": "code",
   "execution_count": 32,
   "id": "joint-appeal",
   "metadata": {},
   "outputs": [],
   "source": [
    "url = \"https://archive.ics.uci.edu/ml/machine-learning-databases/breast-cancer-wisconsin/breast-cancer-wisconsin.data\"\n",
    "\n",
    "col = ['id', 'clump_thickness', 'uniform_cell_size', 'uniform_cell_shape',\n",
    "       'marginal_adhesion', 'single_epithelial_size', 'bare_nuclei',\n",
    "       'bland_chromatin', 'normal_nucleoli', 'mitoses', 'class']\n",
    "data = pd.read_csv(url, names=col)"
   ]
  },
  {
   "cell_type": "code",
   "execution_count": 33,
   "id": "removed-arrival",
   "metadata": {},
   "outputs": [
    {
     "data": {
      "text/html": [
       "<div>\n",
       "<style scoped>\n",
       "    .dataframe tbody tr th:only-of-type {\n",
       "        vertical-align: middle;\n",
       "    }\n",
       "\n",
       "    .dataframe tbody tr th {\n",
       "        vertical-align: top;\n",
       "    }\n",
       "\n",
       "    .dataframe thead th {\n",
       "        text-align: right;\n",
       "    }\n",
       "</style>\n",
       "<table border=\"1\" class=\"dataframe\">\n",
       "  <thead>\n",
       "    <tr style=\"text-align: right;\">\n",
       "      <th></th>\n",
       "      <th>id</th>\n",
       "      <th>clump_thickness</th>\n",
       "      <th>uniform_cell_size</th>\n",
       "      <th>uniform_cell_shape</th>\n",
       "      <th>marginal_adhesion</th>\n",
       "      <th>single_epithelial_size</th>\n",
       "      <th>bare_nuclei</th>\n",
       "      <th>bland_chromatin</th>\n",
       "      <th>normal_nucleoli</th>\n",
       "      <th>mitoses</th>\n",
       "      <th>class</th>\n",
       "    </tr>\n",
       "  </thead>\n",
       "  <tbody>\n",
       "    <tr>\n",
       "      <th>0</th>\n",
       "      <td>1000025</td>\n",
       "      <td>5</td>\n",
       "      <td>1</td>\n",
       "      <td>1</td>\n",
       "      <td>1</td>\n",
       "      <td>2</td>\n",
       "      <td>1</td>\n",
       "      <td>3</td>\n",
       "      <td>1</td>\n",
       "      <td>1</td>\n",
       "      <td>2</td>\n",
       "    </tr>\n",
       "    <tr>\n",
       "      <th>1</th>\n",
       "      <td>1002945</td>\n",
       "      <td>5</td>\n",
       "      <td>4</td>\n",
       "      <td>4</td>\n",
       "      <td>5</td>\n",
       "      <td>7</td>\n",
       "      <td>10</td>\n",
       "      <td>3</td>\n",
       "      <td>2</td>\n",
       "      <td>1</td>\n",
       "      <td>2</td>\n",
       "    </tr>\n",
       "    <tr>\n",
       "      <th>2</th>\n",
       "      <td>1015425</td>\n",
       "      <td>3</td>\n",
       "      <td>1</td>\n",
       "      <td>1</td>\n",
       "      <td>1</td>\n",
       "      <td>2</td>\n",
       "      <td>2</td>\n",
       "      <td>3</td>\n",
       "      <td>1</td>\n",
       "      <td>1</td>\n",
       "      <td>2</td>\n",
       "    </tr>\n",
       "    <tr>\n",
       "      <th>3</th>\n",
       "      <td>1016277</td>\n",
       "      <td>6</td>\n",
       "      <td>8</td>\n",
       "      <td>8</td>\n",
       "      <td>1</td>\n",
       "      <td>3</td>\n",
       "      <td>4</td>\n",
       "      <td>3</td>\n",
       "      <td>7</td>\n",
       "      <td>1</td>\n",
       "      <td>2</td>\n",
       "    </tr>\n",
       "    <tr>\n",
       "      <th>4</th>\n",
       "      <td>1017023</td>\n",
       "      <td>4</td>\n",
       "      <td>1</td>\n",
       "      <td>1</td>\n",
       "      <td>3</td>\n",
       "      <td>2</td>\n",
       "      <td>1</td>\n",
       "      <td>3</td>\n",
       "      <td>1</td>\n",
       "      <td>1</td>\n",
       "      <td>2</td>\n",
       "    </tr>\n",
       "    <tr>\n",
       "      <th>5</th>\n",
       "      <td>1017122</td>\n",
       "      <td>8</td>\n",
       "      <td>10</td>\n",
       "      <td>10</td>\n",
       "      <td>8</td>\n",
       "      <td>7</td>\n",
       "      <td>10</td>\n",
       "      <td>9</td>\n",
       "      <td>7</td>\n",
       "      <td>1</td>\n",
       "      <td>4</td>\n",
       "    </tr>\n",
       "    <tr>\n",
       "      <th>6</th>\n",
       "      <td>1018099</td>\n",
       "      <td>1</td>\n",
       "      <td>1</td>\n",
       "      <td>1</td>\n",
       "      <td>1</td>\n",
       "      <td>2</td>\n",
       "      <td>10</td>\n",
       "      <td>3</td>\n",
       "      <td>1</td>\n",
       "      <td>1</td>\n",
       "      <td>2</td>\n",
       "    </tr>\n",
       "    <tr>\n",
       "      <th>7</th>\n",
       "      <td>1018561</td>\n",
       "      <td>2</td>\n",
       "      <td>1</td>\n",
       "      <td>2</td>\n",
       "      <td>1</td>\n",
       "      <td>2</td>\n",
       "      <td>1</td>\n",
       "      <td>3</td>\n",
       "      <td>1</td>\n",
       "      <td>1</td>\n",
       "      <td>2</td>\n",
       "    </tr>\n",
       "    <tr>\n",
       "      <th>8</th>\n",
       "      <td>1033078</td>\n",
       "      <td>2</td>\n",
       "      <td>1</td>\n",
       "      <td>1</td>\n",
       "      <td>1</td>\n",
       "      <td>2</td>\n",
       "      <td>1</td>\n",
       "      <td>1</td>\n",
       "      <td>1</td>\n",
       "      <td>5</td>\n",
       "      <td>2</td>\n",
       "    </tr>\n",
       "    <tr>\n",
       "      <th>9</th>\n",
       "      <td>1033078</td>\n",
       "      <td>4</td>\n",
       "      <td>2</td>\n",
       "      <td>1</td>\n",
       "      <td>1</td>\n",
       "      <td>2</td>\n",
       "      <td>1</td>\n",
       "      <td>2</td>\n",
       "      <td>1</td>\n",
       "      <td>1</td>\n",
       "      <td>2</td>\n",
       "    </tr>\n",
       "  </tbody>\n",
       "</table>\n",
       "</div>"
      ],
      "text/plain": [
       "        id  clump_thickness  uniform_cell_size  uniform_cell_shape  \\\n",
       "0  1000025                5                  1                   1   \n",
       "1  1002945                5                  4                   4   \n",
       "2  1015425                3                  1                   1   \n",
       "3  1016277                6                  8                   8   \n",
       "4  1017023                4                  1                   1   \n",
       "5  1017122                8                 10                  10   \n",
       "6  1018099                1                  1                   1   \n",
       "7  1018561                2                  1                   2   \n",
       "8  1033078                2                  1                   1   \n",
       "9  1033078                4                  2                   1   \n",
       "\n",
       "   marginal_adhesion  single_epithelial_size bare_nuclei  bland_chromatin  \\\n",
       "0                  1                       2           1                3   \n",
       "1                  5                       7          10                3   \n",
       "2                  1                       2           2                3   \n",
       "3                  1                       3           4                3   \n",
       "4                  3                       2           1                3   \n",
       "5                  8                       7          10                9   \n",
       "6                  1                       2          10                3   \n",
       "7                  1                       2           1                3   \n",
       "8                  1                       2           1                1   \n",
       "9                  1                       2           1                2   \n",
       "\n",
       "   normal_nucleoli  mitoses  class  \n",
       "0                1        1      2  \n",
       "1                2        1      2  \n",
       "2                1        1      2  \n",
       "3                7        1      2  \n",
       "4                1        1      2  \n",
       "5                7        1      4  \n",
       "6                1        1      2  \n",
       "7                1        1      2  \n",
       "8                1        5      2  \n",
       "9                1        1      2  "
      ]
     },
     "execution_count": 33,
     "metadata": {},
     "output_type": "execute_result"
    }
   ],
   "source": [
    "data.head(10)"
   ]
  },
  {
   "cell_type": "code",
   "execution_count": 34,
   "id": "built-patio",
   "metadata": {},
   "outputs": [
    {
     "data": {
      "text/html": [
       "<div>\n",
       "<style scoped>\n",
       "    .dataframe tbody tr th:only-of-type {\n",
       "        vertical-align: middle;\n",
       "    }\n",
       "\n",
       "    .dataframe tbody tr th {\n",
       "        vertical-align: top;\n",
       "    }\n",
       "\n",
       "    .dataframe thead th {\n",
       "        text-align: right;\n",
       "    }\n",
       "</style>\n",
       "<table border=\"1\" class=\"dataframe\">\n",
       "  <thead>\n",
       "    <tr style=\"text-align: right;\">\n",
       "      <th></th>\n",
       "      <th>id</th>\n",
       "      <th>clump_thickness</th>\n",
       "      <th>uniform_cell_size</th>\n",
       "      <th>uniform_cell_shape</th>\n",
       "      <th>marginal_adhesion</th>\n",
       "      <th>single_epithelial_size</th>\n",
       "      <th>bland_chromatin</th>\n",
       "      <th>normal_nucleoli</th>\n",
       "      <th>mitoses</th>\n",
       "      <th>class</th>\n",
       "    </tr>\n",
       "  </thead>\n",
       "  <tbody>\n",
       "    <tr>\n",
       "      <th>count</th>\n",
       "      <td>6.990000e+02</td>\n",
       "      <td>699.000000</td>\n",
       "      <td>699.000000</td>\n",
       "      <td>699.000000</td>\n",
       "      <td>699.000000</td>\n",
       "      <td>699.000000</td>\n",
       "      <td>699.000000</td>\n",
       "      <td>699.000000</td>\n",
       "      <td>699.000000</td>\n",
       "      <td>699.000000</td>\n",
       "    </tr>\n",
       "    <tr>\n",
       "      <th>mean</th>\n",
       "      <td>1.071704e+06</td>\n",
       "      <td>4.417740</td>\n",
       "      <td>3.134478</td>\n",
       "      <td>3.207439</td>\n",
       "      <td>2.806867</td>\n",
       "      <td>3.216023</td>\n",
       "      <td>3.437768</td>\n",
       "      <td>2.866953</td>\n",
       "      <td>1.589413</td>\n",
       "      <td>2.689557</td>\n",
       "    </tr>\n",
       "    <tr>\n",
       "      <th>std</th>\n",
       "      <td>6.170957e+05</td>\n",
       "      <td>2.815741</td>\n",
       "      <td>3.051459</td>\n",
       "      <td>2.971913</td>\n",
       "      <td>2.855379</td>\n",
       "      <td>2.214300</td>\n",
       "      <td>2.438364</td>\n",
       "      <td>3.053634</td>\n",
       "      <td>1.715078</td>\n",
       "      <td>0.951273</td>\n",
       "    </tr>\n",
       "    <tr>\n",
       "      <th>min</th>\n",
       "      <td>6.163400e+04</td>\n",
       "      <td>1.000000</td>\n",
       "      <td>1.000000</td>\n",
       "      <td>1.000000</td>\n",
       "      <td>1.000000</td>\n",
       "      <td>1.000000</td>\n",
       "      <td>1.000000</td>\n",
       "      <td>1.000000</td>\n",
       "      <td>1.000000</td>\n",
       "      <td>2.000000</td>\n",
       "    </tr>\n",
       "    <tr>\n",
       "      <th>25%</th>\n",
       "      <td>8.706885e+05</td>\n",
       "      <td>2.000000</td>\n",
       "      <td>1.000000</td>\n",
       "      <td>1.000000</td>\n",
       "      <td>1.000000</td>\n",
       "      <td>2.000000</td>\n",
       "      <td>2.000000</td>\n",
       "      <td>1.000000</td>\n",
       "      <td>1.000000</td>\n",
       "      <td>2.000000</td>\n",
       "    </tr>\n",
       "    <tr>\n",
       "      <th>50%</th>\n",
       "      <td>1.171710e+06</td>\n",
       "      <td>4.000000</td>\n",
       "      <td>1.000000</td>\n",
       "      <td>1.000000</td>\n",
       "      <td>1.000000</td>\n",
       "      <td>2.000000</td>\n",
       "      <td>3.000000</td>\n",
       "      <td>1.000000</td>\n",
       "      <td>1.000000</td>\n",
       "      <td>2.000000</td>\n",
       "    </tr>\n",
       "    <tr>\n",
       "      <th>75%</th>\n",
       "      <td>1.238298e+06</td>\n",
       "      <td>6.000000</td>\n",
       "      <td>5.000000</td>\n",
       "      <td>5.000000</td>\n",
       "      <td>4.000000</td>\n",
       "      <td>4.000000</td>\n",
       "      <td>5.000000</td>\n",
       "      <td>4.000000</td>\n",
       "      <td>1.000000</td>\n",
       "      <td>4.000000</td>\n",
       "    </tr>\n",
       "    <tr>\n",
       "      <th>max</th>\n",
       "      <td>1.345435e+07</td>\n",
       "      <td>10.000000</td>\n",
       "      <td>10.000000</td>\n",
       "      <td>10.000000</td>\n",
       "      <td>10.000000</td>\n",
       "      <td>10.000000</td>\n",
       "      <td>10.000000</td>\n",
       "      <td>10.000000</td>\n",
       "      <td>10.000000</td>\n",
       "      <td>4.000000</td>\n",
       "    </tr>\n",
       "  </tbody>\n",
       "</table>\n",
       "</div>"
      ],
      "text/plain": [
       "                 id  clump_thickness  uniform_cell_size  uniform_cell_shape  \\\n",
       "count  6.990000e+02       699.000000         699.000000          699.000000   \n",
       "mean   1.071704e+06         4.417740           3.134478            3.207439   \n",
       "std    6.170957e+05         2.815741           3.051459            2.971913   \n",
       "min    6.163400e+04         1.000000           1.000000            1.000000   \n",
       "25%    8.706885e+05         2.000000           1.000000            1.000000   \n",
       "50%    1.171710e+06         4.000000           1.000000            1.000000   \n",
       "75%    1.238298e+06         6.000000           5.000000            5.000000   \n",
       "max    1.345435e+07        10.000000          10.000000           10.000000   \n",
       "\n",
       "       marginal_adhesion  single_epithelial_size  bland_chromatin  \\\n",
       "count         699.000000              699.000000       699.000000   \n",
       "mean            2.806867                3.216023         3.437768   \n",
       "std             2.855379                2.214300         2.438364   \n",
       "min             1.000000                1.000000         1.000000   \n",
       "25%             1.000000                2.000000         2.000000   \n",
       "50%             1.000000                2.000000         3.000000   \n",
       "75%             4.000000                4.000000         5.000000   \n",
       "max            10.000000               10.000000        10.000000   \n",
       "\n",
       "       normal_nucleoli     mitoses       class  \n",
       "count       699.000000  699.000000  699.000000  \n",
       "mean          2.866953    1.589413    2.689557  \n",
       "std           3.053634    1.715078    0.951273  \n",
       "min           1.000000    1.000000    2.000000  \n",
       "25%           1.000000    1.000000    2.000000  \n",
       "50%           1.000000    1.000000    2.000000  \n",
       "75%           4.000000    1.000000    4.000000  \n",
       "max          10.000000   10.000000    4.000000  "
      ]
     },
     "execution_count": 34,
     "metadata": {},
     "output_type": "execute_result"
    }
   ],
   "source": [
    "data.describe()"
   ]
  },
  {
   "cell_type": "code",
   "execution_count": 35,
   "id": "foreign-wallace",
   "metadata": {},
   "outputs": [
    {
     "data": {
      "text/plain": [
       "id                         int64\n",
       "clump_thickness            int64\n",
       "uniform_cell_size          int64\n",
       "uniform_cell_shape         int64\n",
       "marginal_adhesion          int64\n",
       "single_epithelial_size     int64\n",
       "bare_nuclei               object\n",
       "bland_chromatin            int64\n",
       "normal_nucleoli            int64\n",
       "mitoses                    int64\n",
       "class                      int64\n",
       "dtype: object"
      ]
     },
     "execution_count": 35,
     "metadata": {},
     "output_type": "execute_result"
    }
   ],
   "source": [
    "data.dtypes"
   ]
  },
  {
   "cell_type": "markdown",
   "id": "worse-thickness",
   "metadata": {},
   "source": [
    "# Data preprocessing\n",
    "* Find the count of null rows and with respect to columns\n",
    "* Check if any other symbols consist \n",
    "* Delete unwanted columns"
   ]
  },
  {
   "cell_type": "code",
   "execution_count": 36,
   "id": "legendary-vertical",
   "metadata": {},
   "outputs": [
    {
     "data": {
      "text/plain": [
       "id                        0\n",
       "clump_thickness           0\n",
       "uniform_cell_size         0\n",
       "uniform_cell_shape        0\n",
       "marginal_adhesion         0\n",
       "single_epithelial_size    0\n",
       "bare_nuclei               0\n",
       "bland_chromatin           0\n",
       "normal_nucleoli           0\n",
       "mitoses                   0\n",
       "class                     0\n",
       "dtype: int64"
      ]
     },
     "execution_count": 36,
     "metadata": {},
     "output_type": "execute_result"
    }
   ],
   "source": [
    "data.isnull().sum()"
   ]
  },
  {
   "cell_type": "code",
   "execution_count": 37,
   "id": "little-access",
   "metadata": {},
   "outputs": [
    {
     "data": {
      "text/plain": [
       "[RangeIndex(start=0, stop=699, step=1),\n",
       " Index(['id', 'clump_thickness', 'uniform_cell_size', 'uniform_cell_shape',\n",
       "        'marginal_adhesion', 'single_epithelial_size', 'bare_nuclei',\n",
       "        'bland_chromatin', 'normal_nucleoli', 'mitoses', 'class'],\n",
       "       dtype='object')]"
      ]
     },
     "execution_count": 37,
     "metadata": {},
     "output_type": "execute_result"
    }
   ],
   "source": [
    "data.replace(\"?\", -999, inplace=True)\n",
    "data.axes"
   ]
  },
  {
   "cell_type": "code",
   "execution_count": 38,
   "id": "aquatic-jurisdiction",
   "metadata": {},
   "outputs": [],
   "source": [
    "# droping the id columns\n",
    "data.drop(['id'], 1, inplace=True)"
   ]
  },
  {
   "cell_type": "code",
   "execution_count": 40,
   "id": "printable-mozambique",
   "metadata": {},
   "outputs": [],
   "source": [
    "# Basic preprocessing is done, Now we dont have any null set so moving to SVM"
   ]
  },
  {
   "cell_type": "markdown",
   "id": "forced-intersection",
   "metadata": {},
   "source": [
    "# SVM\n",
    "* Taking the X and Y variables\n",
    "* Train test and split\n",
    "* calculate accuray and prediction\n",
    "* In this exercice i dont have test data, SO at the end i assuming some variables on my own and predicting is you get test done you can import that and do prediction"
   ]
  },
  {
   "cell_type": "code",
   "execution_count": 41,
   "id": "assisted-parameter",
   "metadata": {},
   "outputs": [],
   "source": [
    "X = data.drop([\"class\"], axis=1)\n",
    "y = data[\"class\"]"
   ]
  },
  {
   "cell_type": "code",
   "execution_count": 43,
   "id": "saved-worse",
   "metadata": {},
   "outputs": [
    {
     "data": {
      "text/plain": [
       "((559, 9), (140, 9), (559,), (140,))"
      ]
     },
     "execution_count": 43,
     "metadata": {},
     "output_type": "execute_result"
    }
   ],
   "source": [
    "import sklearn.metrics\n",
    "from sklearn.model_selection import train_test_split\n",
    "\n",
    "X_train, X_test, y_train, y_test = train_test_split(X, y, test_size=.20)\n",
    "\n",
    "X_train.shape, X_test.shape, y_train.shape, y_test.shape"
   ]
  },
  {
   "cell_type": "code",
   "execution_count": 44,
   "id": "exact-preliminary",
   "metadata": {},
   "outputs": [],
   "source": [
    "from sklearn.neighbors import KNeighborsClassifier\n",
    "from sklearn.svm import SVC\n",
    "from sklearn import model_selection\n",
    "from sklearn.metrics import classification_report\n",
    "from sklearn.metrics import accuracy_score"
   ]
  },
  {
   "cell_type": "markdown",
   "id": "limiting-witness",
   "metadata": {},
   "source": [
    "## We use KNN and SVM and compare the result"
   ]
  },
  {
   "cell_type": "code",
   "execution_count": null,
   "id": "czech-fleet",
   "metadata": {},
   "outputs": [],
   "source": [
    "models = []\n",
    "models.append((\"KNN\", KNeighborsClassifier(n_neighbors=5)))\n",
    "models.append((\"SVM\", SVC()))\n",
    "\n",
    "result = []\n",
    "model_name = []\n",
    "\n",
    "for name, model in models:\n",
    "    kfold = model_selection.KFold(n_splits=10, random_state=8, shuffle=True)\n",
    "    cv = model_selection.cross_val_score(model, X_train, y_train, cv=kfold, scoring=\"accuracy\")\n",
    "    result.append(cv)\n",
    "    model_name.append(name)\n",
    "    print(\"%s: %f \" % (name, cv.mean()))"
   ]
  },
  {
   "cell_type": "markdown",
   "id": "brutal-armenia",
   "metadata": {},
   "source": [
    "## Make prediction on validation dataset"
   ]
  },
  {
   "cell_type": "code",
   "execution_count": 72,
   "id": "curious-liberia",
   "metadata": {},
   "outputs": [
    {
     "name": "stdout",
     "output_type": "stream",
     "text": [
      "KNN               precision    recall  f1-score   support\n",
      "\n",
      "           2       0.97      0.98      0.97        86\n",
      "           4       0.96      0.94      0.95        54\n",
      "\n",
      "    accuracy                           0.96       140\n",
      "   macro avg       0.96      0.96      0.96       140\n",
      "weighted avg       0.96      0.96      0.96       140\n",
      " \n",
      "Model accuracy:  0.9642857142857143 \n",
      "\n",
      "SVM               precision    recall  f1-score   support\n",
      "\n",
      "           2       0.91      0.99      0.95        86\n",
      "           4       0.98      0.85      0.91        54\n",
      "\n",
      "    accuracy                           0.94       140\n",
      "   macro avg       0.95      0.92      0.93       140\n",
      "weighted avg       0.94      0.94      0.93       140\n",
      " \n",
      "Model accuracy:  0.9357142857142857 \n",
      "\n"
     ]
    }
   ],
   "source": [
    "for name, model in models:\n",
    "    model.fit(X_train, y_train)\n",
    "    y_pred = model.predict(X_test)\n",
    "    accuracy = accuracy_score(y_test, y_pred)\n",
    "    classifier = classification_report(y_test, y_pred)\n",
    "    print(name,classifier,\"\\nModel accuracy: \",accuracy,\"\\n\")"
   ]
  },
  {
   "cell_type": "markdown",
   "id": "immune-research",
   "metadata": {},
   "source": [
    "## Prediction\n",
    "* As aforemention i dont have test dataset to do prediction so assuming the number for each features and predicting\n",
    "* If you have test data please import that and apply prediction\n",
    "* I use SVC (you can use both and do predict)"
   ]
  },
  {
   "cell_type": "code",
   "execution_count": 84,
   "id": "worldwide-cursor",
   "metadata": {},
   "outputs": [
    {
     "name": "stdout",
     "output_type": "stream",
     "text": [
      "[2]\n"
     ]
    }
   ],
   "source": [
    "model = SVC()\n",
    "model.fit(X_train, y_train)\n",
    "\n",
    "feature_value = np.array([[4,2,1,1,1,2,3,2,1]])\n",
    "feature_value.reshape(len(feature_value), -1)\n",
    "print(model.predict(feature_value))"
   ]
  },
  {
   "cell_type": "code",
   "execution_count": null,
   "id": "lined-awareness",
   "metadata": {},
   "outputs": [],
   "source": []
  }
 ],
 "metadata": {
  "kernelspec": {
   "display_name": "Python 3",
   "language": "python",
   "name": "python3"
  },
  "language_info": {
   "codemirror_mode": {
    "name": "ipython",
    "version": 3
   },
   "file_extension": ".py",
   "mimetype": "text/x-python",
   "name": "python",
   "nbconvert_exporter": "python",
   "pygments_lexer": "ipython3",
   "version": "3.6.10"
  },
  "toc": {
   "base_numbering": 1,
   "nav_menu": {},
   "number_sections": true,
   "sideBar": true,
   "skip_h1_title": false,
   "title_cell": "Table of Contents",
   "title_sidebar": "Contents",
   "toc_cell": false,
   "toc_position": {},
   "toc_section_display": true,
   "toc_window_display": false
  }
 },
 "nbformat": 4,
 "nbformat_minor": 5
}
